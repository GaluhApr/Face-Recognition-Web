{
 "cells": [
  {
   "cell_type": "code",
   "execution_count": null,
   "id": "841cf12b",
   "metadata": {},
   "outputs": [],
   "source": [
    "import os\n",
    "from os import listdir\n",
    "from PIL import Image\n",
    "from numpy import asarray\n",
    "from numpy import expand_dims\n",
    "from matplotlib import pyplot\n",
    "from keras.models import load_model\n",
    "import numpy as np\n",
    "\n",
    "import pickle\n",
    "import cv2"
   ]
  },
  {
   "cell_type": "code",
   "execution_count": 11,
   "id": "9dcaf5ae",
   "metadata": {},
   "outputs": [
    {
     "name": "stdout",
     "output_type": "stream",
     "text": [
      "WARNING:tensorflow:No training configuration found in the save file, so the model was *not* compiled. Compile it manually.\n"
     ]
    }
   ],
   "source": [
    "#HaarCascade = cv2.CascadeClassifier('haarcascade_frontalface_default.xml')\n",
    "HaarCascade = cv2.CascadeClassifier(cv2.samples.findFile(cv2.data.haarcascades + 'haarcascade_frontalface_default.xml'))\n",
    "MyFaceNet = load_model('facenet_keras.h5')"
   ]
  },
  {
   "cell_type": "code",
   "execution_count": 12,
   "id": "58e68d53",
   "metadata": {},
   "outputs": [
    {
     "name": "stdout",
     "output_type": "stream",
     "text": [
      "1/1 [==============================] - 4s 4s/step\n",
      "1/1 [==============================] - 0s 105ms/step\n",
      "1/1 [==============================] - 0s 108ms/step\n",
      "1/1 [==============================] - 0s 106ms/step\n"
     ]
    }
   ],
   "source": [
    "folder='test/media/upload/'\n",
    "database = {}\n",
    "\n",
    "for filename in listdir(folder):\n",
    "\n",
    "    path = folder + filename\n",
    "    gbr1 = cv2.imread(folder + filename)\n",
    "    \n",
    "    wajah = HaarCascade.detectMultiScale(gbr1,1.1,4)\n",
    "    \n",
    "    if len(wajah)>0:\n",
    "        x1, y1, width, height = wajah[0]         \n",
    "    else:\n",
    "        x1, y1, width, height = 1, 1, 10, 10\n",
    "        \n",
    "    x1, y1 = abs(x1), abs(y1)\n",
    "    x2, y2 = x1 + width, y1 + height\n",
    "    \n",
    "    gbr = cv2.cvtColor(gbr1, cv2.COLOR_BGR2RGB)\n",
    "    gbr = Image.fromarray(gbr)                  # konversi dari OpenCV ke PIL\n",
    "    gbr_array = asarray(gbr)\n",
    "    \n",
    "    face = gbr_array[y1:y2, x1:x2]                        \n",
    "    \n",
    "    face = Image.fromarray(face)                       \n",
    "    face = face.resize((160,160))\n",
    "    face = asarray(face)\n",
    "    \n",
    "    face = face.astype('float32')\n",
    "    mean, std = face.mean(), face.std()\n",
    "    face = (face - mean) / std\n",
    "    \n",
    "    face = expand_dims(face, axis=0)\n",
    "    signature = MyFaceNet.predict(face)\n",
    "    \n",
    "    database[os.path.splitext(filename)[0]]=signature"
   ]
  },
  {
   "cell_type": "code",
   "execution_count": 15,
   "id": "bd50eb57",
   "metadata": {},
   "outputs": [],
   "source": [
    "myfile = open(\"data.pkl\", \"wb\")\n",
    "pickle.dump(database, myfile)\n",
    "myfile.close()"
   ]
  },
  {
   "cell_type": "code",
   "execution_count": null,
   "id": "2f59508c",
   "metadata": {},
   "outputs": [],
   "source": []
  }
 ],
 "metadata": {
  "kernelspec": {
   "display_name": "Python 3.10.6 64-bit",
   "language": "python",
   "name": "python3"
  },
  "language_info": {
   "codemirror_mode": {
    "name": "ipython",
    "version": 3
   },
   "file_extension": ".py",
   "mimetype": "text/x-python",
   "name": "python",
   "nbconvert_exporter": "python",
   "pygments_lexer": "ipython3",
   "version": "3.10.6"
  },
  "vscode": {
   "interpreter": {
    "hash": "fe268a265eeb9b45267709bbf87f7080cdf7287b506c58faaa829dae2302ab97"
   }
  }
 },
 "nbformat": 4,
 "nbformat_minor": 5
}
